{
 "cells": [
  {
   "cell_type": "code",
   "execution_count": 7,
   "metadata": {
    "colab": {
     "base_uri": "https://localhost:8080/"
    },
    "executionInfo": {
     "elapsed": 25646,
     "status": "ok",
     "timestamp": 1656350205335,
     "user": {
      "displayName": "Michael Rowe",
      "userId": "00596102915134953820"
     },
     "user_tz": 300
    },
    "id": "dRQ3VxEaIHtN",
    "outputId": "02672228-2716-4047-fa41-bdf181040126"
   },
   "outputs": [],
   "source": [
    "#%load_ext autoreload\n",
    "#%autoreload 2\n",
    "\n",
    "#from google.colab import drive\n",
    "#drive.mount('/content/drive')\n",
    "\n",
    "import os\n",
    "#GOOGLE_DRIVE_PATH_AFTER_MYDRIVE = None \n",
    "#GOOGLE_DRIVE_PATH = os.path.join('drive', 'My Drive', 'Colab Notebooks', 'edges' , 'edgess')\n",
    "import sys\n",
    "#sys.path.append(GOOGLE_DRIVE_PATH)\n",
    "\n",
    "#import tensorflow as tf\n",
    "#import tensorflow_hub as hub\n",
    "#from tensorflow import keras\n",
    "import matplotlib.pyplot as plt\n",
    "import statistics as stats\n",
    "import numpy as np\n",
    "import networkx as nx\n",
    "import platform\n",
    "import random\n",
    "import scipy as sp"
   ]
  },
  {
   "cell_type": "code",
   "execution_count": 39,
   "metadata": {
    "executionInfo": {
     "elapsed": 226,
     "status": "ok",
     "timestamp": 1656350209008,
     "user": {
      "displayName": "Michael Rowe",
      "userId": "00596102915134953820"
     },
     "user_tz": 300
    },
    "id": "sfx1i5OqIq3A"
   },
   "outputs": [],
   "source": [
    "import itertools\n",
    "from itertools import combinations, groupby\n",
    "def gnp_random_connected_graph(n, p):\n",
    "    \"\"\"\n",
    "    Generates a random undirected graph, similarly to an Erdős-Rényi \n",
    "    graph, but enforcing that the resulting graph is conneted\n",
    "    \"\"\"\n",
    "    edges = itertools.combinations(range(n), 2)\n",
    "    G = nx.Graph()\n",
    "    G.add_nodes_from(range(n))\n",
    "    if p <= 0:\n",
    "        return G\n",
    "    if p >= 1:\n",
    "        return nx.complete_graph(n, create_using=G)\n",
    "    for _, node_edges in groupby(edges, key=lambda x: x[0]):\n",
    "        node_edges = list(node_edges)\n",
    "        random_edge = random.choice(node_edges)\n",
    "        G.add_edge(*random_edge)\n",
    "        for e in node_edges:\n",
    "            if random.random() < p:\n",
    "                G.add_edge(*e)\n",
    "    return G"
   ]
  },
  {
   "cell_type": "code",
   "execution_count": 46,
   "metadata": {
    "executionInfo": {
     "elapsed": 217,
     "status": "ok",
     "timestamp": 1656350214345,
     "user": {
      "displayName": "Michael Rowe",
      "userId": "00596102915134953820"
     },
     "user_tz": 300
    },
    "id": "uILgitllIu1m"
   },
   "outputs": [],
   "source": [
    "def gen_benine_graph():\n",
    "  G = gnp_random_connected_graph(random.randint(50,75), random.uniform(0,1))\n",
    "  if (nx.density(G) <= .9) and (nx.density(G) >= .7):\n",
    "    return G\n",
    "  else:\n",
    "    return gen_benine_graph()"
   ]
  },
  {
   "cell_type": "code",
   "execution_count": 47,
   "metadata": {
    "id": "0GfxF9KgIy-9"
   },
   "outputs": [],
   "source": [
    "for i in range(0,499):\n",
    "  with open( 'MalGraph' + f'{i}', 'w'):\n",
    "    G = gen_benine_graph()\n",
    "    nx.write_edgelist(G,'MalGraph' + f'{i}')"
   ]
  },
  {
   "cell_type": "code",
   "execution_count": 42,
   "metadata": {},
   "outputs": [],
   "source": [
    "def feature_to_mean(dictionary):\n",
    "    feature_list = []\n",
    "    feature_list = list(dictionary.values())\n",
    "    mean_feature_list = np.mean(feature_list)\n",
    "    return mean_feature_list\n",
    "\n",
    "def mean_of_all_graphs (mean_feature_list):\n",
    "    mean_all_500 = np.mean(mean_feature_list)\n",
    "    median_all_500 = np.median(mean_feature_list)\n",
    "    return mean_all_500 , median_all_500 \n"
   ]
  },
  {
   "cell_type": "code",
   "execution_count": 60,
   "metadata": {
    "executionInfo": {
     "elapsed": 2829,
     "status": "ok",
     "timestamp": 1656350219216,
     "user": {
      "displayName": "Michael Rowe",
      "userId": "00596102915134953820"
     },
     "user_tz": 300
    },
    "id": "iHS556Q9FyuQ"
   },
   "outputs": [],
   "source": [
    "\"\"\"dc_mean_list = []\n",
    "cc_mean_list = []\n",
    "bc_mean_list = []\n",
    "hc_mean_list = []\n",
    "ec_mean_list = []\n",
    "clust_mean_list = []\n",
    "pr_mean_list = []\n",
    "\"\"\"\n",
    "with open('BenignGraphs.txt','a') as t:\n",
    "    t.write('\\n')\n",
    "    for i in range(0,499):\n",
    "        h = nx.read_edgelist('MalGraph' + f'{i}')\n",
    "    \n",
    "        dc_dict = nx.degree_centrality(h)\n",
    "        cc_dict = nx.closeness_centrality(h)\n",
    "        bc_dict = nx.betweenness_centrality(h)\n",
    "        hc_dict = nx.harmonic_centrality(h)\n",
    "        ec_dict = nx.eigenvector_centrality(h)\n",
    "        clust_dict = nx.clustering(h)\n",
    "        #pr_dict = nx.pagerank(h)\n",
    "        \n",
    "        t.write(f'{feature_to_mean(dc_dict)}' + f'{feature_to_mean(cc_dict)}' + f'{feature_to_mean(bc_dict)}' + f'{feature_to_mean(hc_dict)}' + f'{feature_to_mean(ec_dict)}' + f'{feature_to_mean(clust_dict)}' + '\\n' )\n",
    "    \n",
    "    \"\"\"\n",
    "    dc_mean_list.append(feature_to_mean(dc_dict))\n",
    "    cc_mean_list.append(feature_to_mean(cc_dict))\n",
    "    bc_mean_list.append(feature_to_mean(bc_dict))\n",
    "    hc_mean_list.append(feature_to_mean(hc_dict))\n",
    "    ec_mean_list.append(feature_to_mean(ec_dict))\n",
    "    clust_mean_list.append(feature_to_mean(clust_dict))\n",
    "    #pr_mean_list.append(feature_to_mean(pr_dict))\n",
    "    \"\"\"\n",
    "\n",
    "#print(\"DC (mean, median) : \", mean_of_all_graphs(dc_mean_list))   \n",
    "  \n",
    "    \n",
    "#print(dc_mean_list)\n",
    "#print(cc_mean_list)\n",
    "#print(bc_mean_list)\n",
    "#print(hc_mean_list)\n",
    "#print(ec_mean_list)\n",
    "#print(clust_mean_list)\n",
    "  #x=0\n",
    "#for line in nx.read_edgelist(GOOGLE_DRIVE_PATH + 'Graph' + f'{0}'):\n",
    "  #print(line)\n",
    "    \n",
    "  #with open('testdata.txt', 'w') as t:\n",
    "  #1 d deg\n",
    "    #print(nx.density(h))\n",
    "\n",
    "    #dc_dict = nx.degree_centrality(h)\n",
    "    #dc_list = list(nx.degree_centrality(h).values())\n",
    "    #print(nx.degree_centrality(h))\n",
    "    #print(dc_list)\n",
    "    #dc_mean = np.mean(dc_list)\n",
    "    #dc_median = np.median(dc_list)\n",
    "    #print(dc_mean,dc_median)\n",
    "    #print(dc_list)\n",
    "    \n",
    "        #t.write(f'{nx.density(h)}' + f'{h.degree()}' + '\\n')\n",
    "  #print(nx.average_degree_connectivity(h))\n",
    "    #x += 1\n",
    "    #print(x)\n",
    "  #G = nx.parse_edgelist(h)\n",
    "  \n",
    "  #print(nx.density(G))"
   ]
  },
  {
   "cell_type": "code",
   "execution_count": 49,
   "metadata": {},
   "outputs": [],
   "source": [
    "with open('Maldata.txt','w') as t:\n",
    "    t.write('Mal Graphs' + '\\n')\n",
    "    t.write(\"DC (mean, median) : \" + f'{mean_of_all_graphs(dc_mean_list)}' + '\\n')\n",
    "    t.write(\"CC (mean, median) : \" + f'{mean_of_all_graphs(cc_mean_list)}' + '\\n')\n",
    "    t.write(\"BC (mean, median) : \" + f'{mean_of_all_graphs(bc_mean_list)}' + '\\n')\n",
    "    t.write(\"HC (mean, median) : \" + f'{mean_of_all_graphs(hc_mean_list)}' + '\\n')\n",
    "    t.write(\"EC (mean, median) : \" + f'{mean_of_all_graphs(ec_mean_list)}' + '\\n')\n",
    "    t.write(\"Clust (mean, median) : \" + f'{mean_of_all_graphs(clust_mean_list)}' + '\\n')\n",
    "    "
   ]
  },
  {
   "cell_type": "code",
   "execution_count": 59,
   "metadata": {},
   "outputs": [],
   "source": [
    "with open('blank.txt', 'a') as p:\n",
    "    \n",
    "    p.write('\\n'+'tess')\n",
    "    "
   ]
  },
  {
   "cell_type": "code",
   "execution_count": null,
   "metadata": {},
   "outputs": [],
   "source": []
  }
 ],
 "metadata": {
  "colab": {
   "authorship_tag": "ABX9TyOqwJRyzKaDV5YCzsWNN84g",
   "collapsed_sections": [],
   "name": "Testing.ipynb",
   "provenance": []
  },
  "kernelspec": {
   "display_name": "Python 3 (ipykernel)",
   "language": "python",
   "name": "python3"
  },
  "language_info": {
   "codemirror_mode": {
    "name": "ipython",
    "version": 3
   },
   "file_extension": ".py",
   "mimetype": "text/x-python",
   "name": "python",
   "nbconvert_exporter": "python",
   "pygments_lexer": "ipython3",
   "version": "3.9.12"
  }
 },
 "nbformat": 4,
 "nbformat_minor": 1
}
